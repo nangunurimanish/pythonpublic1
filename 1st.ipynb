{
 "cells": [
  {
   "cell_type": "markdown",
   "metadata": {},
   "source": [
    "mylearning1"
   ]
  },
  {
   "cell_type": "markdown",
   "metadata": {},
   "source": [
    "printing statements and variables \n"
   ]
  },
  {
   "cell_type": "code",
   "execution_count": 5,
   "metadata": {},
   "outputs": [
    {
     "name": "stdout",
     "output_type": "stream",
     "text": [
      "manish\n"
     ]
    }
   ],
   "source": [
    "print('manish')"
   ]
  },
  {
   "cell_type": "code",
   "execution_count": 7,
   "metadata": {},
   "outputs": [
    {
     "name": "stdout",
     "output_type": "stream",
     "text": [
      "name of the student is manish, student is a male, and he is 23 old.\n"
     ]
    }
   ],
   "source": [
    "name='manish'\n",
    "age=23\n",
    "gender='male'\n",
    "details=f'name of the student is {name}, student is a {gender}, and he is {age} old.'\n",
    "print(details)"
   ]
  },
  {
   "cell_type": "markdown",
   "metadata": {},
   "source": [
    "commenting"
   ]
  },
  {
   "cell_type": "markdown",
   "metadata": {},
   "source": [
    "single line commenting "
   ]
  },
  {
   "cell_type": "code",
   "execution_count": 14,
   "metadata": {},
   "outputs": [],
   "source": [
    "#python is a programming language"
   ]
  },
  {
   "cell_type": "markdown",
   "metadata": {},
   "source": [
    "multiline commenting"
   ]
  },
  {
   "cell_type": "code",
   "execution_count": 15,
   "metadata": {},
   "outputs": [],
   "source": [
    "#\"\"\"Strategically engineered curriculum taught by experienced industry \n",
    "#instructors. Classes cover a combination of discussion, lab work, and \n",
    "#real-world projects. Build a Portfolio. Career Services. Real World \n",
    "#Projects. Part-Time Program. Continuing Education.\"\"\""
   ]
  },
  {
   "cell_type": "markdown",
   "metadata": {},
   "source": [
    "concatination"
   ]
  },
  {
   "cell_type": "code",
   "execution_count": 13,
   "metadata": {},
   "outputs": [
    {
     "name": "stdout",
     "output_type": "stream",
     "text": [
      "manish is a student, who is 23years old\n"
     ]
    }
   ],
   "source": [
    "n='manish'\n",
    "a=str(23)\n",
    "print(n + ' ' + 'is a student, who is' + ' ' + a +'years old')"
   ]
  },
  {
   "cell_type": "markdown",
   "metadata": {},
   "source": [
    "lists"
   ]
  },
  {
   "cell_type": "code",
   "execution_count": 17,
   "metadata": {
    "scrolled": true
   },
   "outputs": [
    {
     "name": "stdout",
     "output_type": "stream",
     "text": [
      "['mon', 'tue', 'wed', 'thur', 'fri', 'sat', 'sun']\n"
     ]
    }
   ],
   "source": [
    "days=['mon','tue','wed','thur','fri','sat','sun']\n",
    "print(days)"
   ]
  },
  {
   "cell_type": "markdown",
   "metadata": {},
   "source": [
    "to print only particular elemetns of list"
   ]
  },
  {
   "cell_type": "code",
   "execution_count": 25,
   "metadata": {},
   "outputs": [
    {
     "name": "stdout",
     "output_type": "stream",
     "text": [
      "working days are ['mon', 'tue', 'wed', 'thur']\n"
     ]
    }
   ],
   "source": [
    "days=['mon','tue','wed','thur','fri','sat','sun']\n",
    "print('working days are ' + str (days[0:4]) )"
   ]
  },
  {
   "cell_type": "code",
   "execution_count": 30,
   "metadata": {},
   "outputs": [
    {
     "name": "stdout",
     "output_type": "stream",
     "text": [
      "week offs are['sat', 'sun']\n"
     ]
    }
   ],
   "source": [
    "days=['mon','tue','wed','thur','fri','sat','sun']\n",
    "print('week offs are'+str(days[5:]))"
   ]
  },
  {
   "cell_type": "markdown",
   "metadata": {},
   "source": [
    "adding new element to the list(append/insert)"
   ]
  },
  {
   "cell_type": "code",
   "execution_count": 31,
   "metadata": {},
   "outputs": [
    {
     "name": "stdout",
     "output_type": "stream",
     "text": [
      "['mon', 'tue', 'wed', 'thur', 'fri', 'sat', 'sun']\n"
     ]
    }
   ],
   "source": [
    "days=['mon','tue','wed','thur','fri','sat']\n",
    "days.append('sun')\n",
    "print(days)"
   ]
  },
  {
   "cell_type": "code",
   "execution_count": 32,
   "metadata": {},
   "outputs": [
    {
     "name": "stdout",
     "output_type": "stream",
     "text": [
      "['mon', 'tue', 'wed', 'thur', 'fri', 'sat', 'sun']\n"
     ]
    }
   ],
   "source": [
    "days=['tue','wed','thur','fri','sat','sun']\n",
    "days.insert(0,'mon')\n",
    "print(days)"
   ]
  },
  {
   "cell_type": "code",
   "execution_count": 35,
   "metadata": {},
   "outputs": [
    {
     "name": "stdout",
     "output_type": "stream",
     "text": [
      "['mon', 'tue', 'wed', 'thu', 'fri', ['sat', 'sun']]\n"
     ]
    }
   ],
   "source": [
    "work=['mon','tue','wed','thu','fri']\n",
    "off=['sat','sun']\n",
    "work.append(off)\n",
    "print(work)\n"
   ]
  },
  {
   "cell_type": "code",
   "execution_count": 36,
   "metadata": {},
   "outputs": [
    {
     "name": "stdout",
     "output_type": "stream",
     "text": [
      "['mon', 'tue', 'wed', 'thu', 'fri', 'sat', 'sun']\n"
     ]
    }
   ],
   "source": [
    "work=['mon','tue','wed','thu','fri']\n",
    "off=['sat','sun']\n",
    "work.extend(off)\n",
    "print(work)"
   ]
  },
  {
   "cell_type": "code",
   "execution_count": 38,
   "metadata": {},
   "outputs": [
    {
     "name": "stdout",
     "output_type": "stream",
     "text": [
      "['tue', 'wed', 'thu', 'fri']\n"
     ]
    }
   ],
   "source": [
    "work=['mon','tue','wed','thu','fri']\n",
    "off=['sat','sun']\n",
    "work.remove('mon')\n",
    "print(work)"
   ]
  },
  {
   "cell_type": "markdown",
   "metadata": {},
   "source": [
    "pop removes last element and pop also gives element it popped from the list"
   ]
  },
  {
   "cell_type": "code",
   "execution_count": 46,
   "metadata": {},
   "outputs": [
    {
     "name": "stdout",
     "output_type": "stream",
     "text": [
      "['mon', 'tue', 'wed', 'thu', 'fri', 'sat']\n",
      "['mon', 'tue', 'wed', 'thu', 'fri']\n",
      "fri\n"
     ]
    }
   ],
   "source": [
    "work=['mon','tue','wed','thu','fri','sat','sun']\n",
    "work.pop()\n",
    "print(work)\n",
    "work.pop()\n",
    "print(work)\n",
    "removed=work.pop()\n",
    "print(removed)"
   ]
  },
  {
   "cell_type": "markdown",
   "metadata": {},
   "source": [
    "check for item in list"
   ]
  },
  {
   "cell_type": "code",
   "execution_count": 48,
   "metadata": {},
   "outputs": [
    {
     "name": "stdout",
     "output_type": "stream",
     "text": [
      "True\n"
     ]
    }
   ],
   "source": [
    "work=['mon','tue','wed','thu','fri','sat','sun']\n",
    "print('mon'in work)"
   ]
  },
  {
   "cell_type": "code",
   "execution_count": 49,
   "metadata": {},
   "outputs": [
    {
     "name": "stdout",
     "output_type": "stream",
     "text": [
      "False\n"
     ]
    }
   ],
   "source": [
    "work=['mon','tue','wed','thu','fri','sat','sun']\n",
    "print('jan'in work)"
   ]
  },
  {
   "cell_type": "markdown",
   "metadata": {},
   "source": [
    "print elements in the list"
   ]
  },
  {
   "cell_type": "code",
   "execution_count": 50,
   "metadata": {},
   "outputs": [
    {
     "name": "stdout",
     "output_type": "stream",
     "text": [
      "mon\n",
      "tue\n",
      "wed\n",
      "thu\n",
      "fri\n",
      "sat\n",
      "sun\n"
     ]
    }
   ],
   "source": [
    "work=['mon','tue','wed','thu','fri','sat','sun']\n",
    "for i in work :\n",
    "    print(i)"
   ]
  },
  {
   "cell_type": "markdown",
   "metadata": {},
   "source": [
    "print elements along with the index"
   ]
  },
  {
   "cell_type": "code",
   "execution_count": 54,
   "metadata": {},
   "outputs": [
    {
     "name": "stdout",
     "output_type": "stream",
     "text": [
      "0 mon\n",
      "1 tue\n",
      "2 wed\n",
      "3 thu\n",
      "4 fri\n",
      "5 sat\n",
      "6 sun\n"
     ]
    }
   ],
   "source": [
    "work=['mon','tue','wed','thu','fri','sat','sun']\n",
    "for ind,i in enumerate (work) :\n",
    "    print(ind,i)"
   ]
  },
  {
   "cell_type": "code",
   "execution_count": 55,
   "metadata": {},
   "outputs": [
    {
     "name": "stdout",
     "output_type": "stream",
     "text": [
      "6 mon\n",
      "7 tue\n",
      "8 wed\n",
      "9 thu\n",
      "10 fri\n",
      "11 sat\n",
      "12 sun\n"
     ]
    }
   ],
   "source": [
    "work=['mon','tue','wed','thu','fri','sat','sun']\n",
    "for ind,i in enumerate (work,start=6) :\n",
    "    print(ind,i)"
   ]
  },
  {
   "cell_type": "markdown",
   "metadata": {},
   "source": [
    "conversion of list to string"
   ]
  },
  {
   "cell_type": "code",
   "execution_count": 1,
   "metadata": {},
   "outputs": [
    {
     "name": "stdout",
     "output_type": "stream",
     "text": [
      "mon-tue-wed-thu-fri-sat-sun\n",
      "o\n"
     ]
    }
   ],
   "source": [
    "work=['mon','tue','wed','thu','fri','sat','sun']\n",
    "work_str='-'.join(work)\n",
    "print(work_str) \n",
    "print(work_str[1])"
   ]
  },
  {
   "cell_type": "code",
   "execution_count": 59,
   "metadata": {},
   "outputs": [
    {
     "name": "stdout",
     "output_type": "stream",
     "text": [
      "tue\n"
     ]
    }
   ],
   "source": [
    "work=['mon','tue','wed','thu','fri','sat','sun']\n",
    "\n",
    "print(work[1]) \n"
   ]
  },
  {
   "cell_type": "code",
   "execution_count": 61,
   "metadata": {},
   "outputs": [
    {
     "name": "stdout",
     "output_type": "stream",
     "text": [
      "n\n"
     ]
    }
   ],
   "source": [
    "work=['mon','tue','wed','thu','fri','sat','sun']\n",
    "work_str='-'.join(work)\n",
    "print(work_str[2]) "
   ]
  },
  {
   "cell_type": "markdown",
   "metadata": {},
   "source": [
    "conversion of string to list"
   ]
  },
  {
   "cell_type": "code",
   "execution_count": 13,
   "metadata": {},
   "outputs": [
    {
     "name": "stdout",
     "output_type": "stream",
     "text": [
      "[\"'mon','tue','wed','thu','fri','sat','sun'\"]\n"
     ]
    }
   ],
   "source": [
    "work=\"'mon','tue','wed','thu','fri','sat','sun'\"\n",
    "work1=work.split(' , ')\n",
    "print(work1)"
   ]
  },
  {
   "cell_type": "markdown",
   "metadata": {},
   "source": [
    "update the value in a list"
   ]
  },
  {
   "cell_type": "code",
   "execution_count": 77,
   "metadata": {},
   "outputs": [
    {
     "name": "stdout",
     "output_type": "stream",
     "text": [
      "['mon', 'tue', 'jan', 'thu', 'fri', 'sat', 'sun']\n"
     ]
    }
   ],
   "source": [
    "work=['mon','tue','wed','thu','fri','sat','sun']\n",
    "work1=work\n",
    "\n",
    "work[2]='jan'\n",
    "print(work1) \n",
    "\n"
   ]
  },
  {
   "cell_type": "markdown",
   "metadata": {},
   "source": [
    "tuples (everything same as list but cannot be modified)\n"
   ]
  },
  {
   "cell_type": "code",
   "execution_count": 78,
   "metadata": {},
   "outputs": [
    {
     "name": "stdout",
     "output_type": "stream",
     "text": [
      "('mon', 'tue', 'wed', 'thu', 'fri', 'sat', 'sun')\n"
     ]
    }
   ],
   "source": [
    "work=('mon','tue','wed','thu','fri','sat','sun')\n",
    "work1=work\n",
    "\n",
    "\n",
    "print(work1) "
   ]
  },
  {
   "cell_type": "markdown",
   "metadata": {},
   "source": [
    "sets"
   ]
  },
  {
   "cell_type": "code",
   "execution_count": 81,
   "metadata": {},
   "outputs": [
    {
     "name": "stdout",
     "output_type": "stream",
     "text": [
      "{'thu', 'sat', 'tue', 'mon', 'sun', 'wed', 'fri'}\n"
     ]
    }
   ],
   "source": [
    "days={'mon','tue','wed','thu','fri','sat','sun'}\n",
    "print(days)"
   ]
  },
  {
   "cell_type": "markdown",
   "metadata": {},
   "source": [
    "in tuples itt only prints unique items from the list"
   ]
  },
  {
   "cell_type": "code",
   "execution_count": 80,
   "metadata": {},
   "outputs": [
    {
     "name": "stdout",
     "output_type": "stream",
     "text": [
      "{'thu', 'sat', 'tue', 'mon', 'sun', 'wed', 'fri'}\n"
     ]
    }
   ],
   "source": [
    "days={'mon','sat','tue','wed','thu','fri','sat','sun'}\n",
    "print(days)"
   ]
  },
  {
   "cell_type": "markdown",
   "metadata": {},
   "source": [
    "mathematical functions in sets"
   ]
  },
  {
   "cell_type": "code",
   "execution_count": 83,
   "metadata": {
    "scrolled": false
   },
   "outputs": [
    {
     "name": "stdout",
     "output_type": "stream",
     "text": [
      "{'jan', 'feb', 'mar'}\n",
      "{'sat', 'mon', 'sun', 'wed', 'fri'}\n",
      "{'jan', 'sat', 'thu', 'feb', 'tue', 'mon', 'sun', 'wed', 'fri', 'mar'}\n"
     ]
    }
   ],
   "source": [
    "days={'mon','sat','tue','wed','thu','fri','sat','sun'}\n",
    "days1={'mon','sat','mar','wed','feb','fri','jan','sun'}\n",
    "print(days1.difference(days))\n",
    "print(days1.intersection(days))\n",
    "print(days1.union(days))"
   ]
  },
  {
   "cell_type": "markdown",
   "metadata": {},
   "source": [
    "dictionaries "
   ]
  },
  {
   "cell_type": "code",
   "execution_count": 14,
   "metadata": {},
   "outputs": [
    {
     "name": "stdout",
     "output_type": "stream",
     "text": [
      "{'Name': 'Manish', 'Salary': '$200,000.00'}\n"
     ]
    }
   ],
   "source": [
    "Employee={'Name':'Manish','Salary':'$200,000.00'}\n",
    "print(Employee)"
   ]
  },
  {
   "cell_type": "code",
   "execution_count": 30,
   "metadata": {},
   "outputs": [
    {
     "name": "stdout",
     "output_type": "stream",
     "text": [
      "Manish\n",
      "$200,000.00\n",
      "$200,000.00\n",
      "not found\n"
     ]
    }
   ],
   "source": [
    "Employee={'Name':'Manish','Salary':'$200,000.00'}\n",
    "print(Employee['Name'])\n",
    "print(Employee['Salary'])\n",
    "print(Employee.get('Salary'))\n",
    "print(Employee.get('age','not found'))#get is another method to get element from the dict"
   ]
  },
  {
   "cell_type": "markdown",
   "metadata": {},
   "source": [
    "adding new element to the dictionery"
   ]
  },
  {
   "cell_type": "code",
   "execution_count": 42,
   "metadata": {},
   "outputs": [
    {
     "name": "stdout",
     "output_type": "stream",
     "text": [
      "23\n",
      "{'Name': 'Manish', 'Salary': '$200,000.00', 'Age': '23'}\n",
      "{'Name': 'Man', 'Salary': '$200,000.00', 'Age': '23'}\n",
      "{'Name': 'Man', 'Salary': '$250,000.00', 'Age': '24'}\n",
      "{'Salary': '$250,000.00', 'Age': '24'}\n",
      "{'Salary': '$250,000.00'}\n",
      "dict_keys(['Name', 'Salary'])\n",
      "dict_values(['Manish', '$200,000.00'])\n",
      "dict_items([('Name', 'Manish'), ('Salary', '$200,000.00')])\n"
     ]
    }
   ],
   "source": [
    "Employee={'Name':'Manish','Salary':'$200,000.00'}\n",
    "Employee['Age'] = '23'\n",
    "print(Employee['Age'])\n",
    "print(Employee)\n",
    "Employee['Name'] = 'Man'#updating the value existing\n",
    "print(Employee)\n",
    "Employee.update({'Name':'Man','Salary':'$250,000.00','Age':'24'})#another updating the value existing\n",
    "print(Employee)\n",
    "del Employee['Name']#deleting an element\n",
    "print(Employee)\n",
    "Employee.pop('Age')\n",
    "print(Employee)\n",
    "Employee={'Name':'Manish','Salary':'$200,000.00'}\n",
    "print(Employee.keys())\n",
    "print(Employee.values())\n",
    "print(Employee.items())\n"
   ]
  },
  {
   "cell_type": "code",
   "execution_count": 45,
   "metadata": {},
   "outputs": [
    {
     "name": "stdout",
     "output_type": "stream",
     "text": [
      "Name\n",
      "Salary\n",
      "Name Manish\n",
      "Salary $200,000.00\n"
     ]
    }
   ],
   "source": [
    "Employee={'Name':'Manish','Salary':'$200,000.00'}\n",
    "for i in Employee:\n",
    "    print(i)\n",
    "for i,j in Employee.items():\n",
    "    print(i,j)"
   ]
  },
  {
   "cell_type": "code",
   "execution_count": null,
   "metadata": {},
   "outputs": [],
   "source": []
  }
 ],
 "metadata": {
  "kernelspec": {
   "display_name": "Python 3",
   "language": "python",
   "name": "python3"
  },
  "language_info": {
   "codemirror_mode": {
    "name": "ipython",
    "version": 3
   },
   "file_extension": ".py",
   "mimetype": "text/x-python",
   "name": "python",
   "nbconvert_exporter": "python",
   "pygments_lexer": "ipython3",
   "version": "3.7.4"
  }
 },
 "nbformat": 4,
 "nbformat_minor": 2
}
